{
 "cells": [
  {
   "cell_type": "code",
   "execution_count": 5,
   "metadata": {},
   "outputs": [
    {
     "name": "stdout",
     "output_type": "stream",
     "text": [
      "ft -fold0 data generated finished!\n",
      "ft -fold1 data generated finished!\n",
      "ft -fold2 data generated finished!\n",
      "ft -fold3 data generated finished!\n",
      "ft -fold4 data generated finished!\n",
      "All Data Generated Done!\n"
     ]
    }
   ],
   "source": [
    "#fais en sorte que ton working directory soit /model et pas la racine \n",
    "\n",
    "from utility.cross_validation import split_5_folds\n",
    "from configx.configx import ConfigX\n",
    "\n",
    "import os \n",
    "# os.chdir(os.getcwd()+\"\\\\model\")\n",
    "configx = ConfigX()\n",
    "configx.k_fold_num = 5 \n",
    "configx.rating_path = \"../data/ft_ratings.txt\"\n",
    "configx.trust_path = \"../data/ft_trust.txt\"\n",
    "configx.rating_cv_path = \"../data/cv/\"\n",
    "\n",
    "split_5_folds(configx)"
   ]
  },
  {
   "cell_type": "code",
   "execution_count": 57,
   "metadata": {},
   "outputs": [
    {
     "ename": "ModuleNotFoundError",
     "evalue": "No module named 'networkx'",
     "output_type": "error",
     "traceback": [
      "\u001b[1;31m---------------------------------------------------------------------------\u001b[0m",
      "\u001b[1;31mModuleNotFoundError\u001b[0m                       Traceback (most recent call last)",
      "Cell \u001b[1;32mIn[57], line 1\u001b[0m\n\u001b[1;32m----> 1\u001b[0m \u001b[39mfrom\u001b[39;00m \u001b[39mmodel\u001b[39;00m\u001b[39m.\u001b[39;00m\u001b[39msocial_reg\u001b[39;00m \u001b[39mimport\u001b[39;00m SocialReg\n\u001b[0;32m      3\u001b[0m rmses \u001b[39m=\u001b[39m []\n\u001b[0;32m      4\u001b[0m maes \u001b[39m=\u001b[39m []\n",
      "File \u001b[1;32md:\\Utilisateurs\\UPS\\Graph Mining\\Projet-Graphes-et-Reseaux-main\\RSAlgorithms-master\\model\\social_reg.py:9\u001b[0m\n\u001b[0;32m      7\u001b[0m \u001b[39mfrom\u001b[39;00m \u001b[39mreader\u001b[39;00m\u001b[39m.\u001b[39;00m\u001b[39mtrust\u001b[39;00m \u001b[39mimport\u001b[39;00m TrustGetter\n\u001b[0;32m      8\u001b[0m \u001b[39mfrom\u001b[39;00m \u001b[39mutility\u001b[39;00m\u001b[39m.\u001b[39;00m\u001b[39mmatrix\u001b[39;00m \u001b[39mimport\u001b[39;00m SimMatrix\n\u001b[1;32m----> 9\u001b[0m \u001b[39mfrom\u001b[39;00m \u001b[39mutility\u001b[39;00m\u001b[39m.\u001b[39;00m\u001b[39msimilarity\u001b[39;00m \u001b[39mimport\u001b[39;00m pearson_sp, cosine_sp, cos, adam_adar\n\u001b[0;32m     10\u001b[0m \u001b[39mfrom\u001b[39;00m \u001b[39mutility\u001b[39;00m \u001b[39mimport\u001b[39;00m util\n\u001b[0;32m     11\u001b[0m \u001b[39mimport\u001b[39;00m \u001b[39mnetworkx\u001b[39;00m \u001b[39mas\u001b[39;00m \u001b[39mnx\u001b[39;00m\n",
      "File \u001b[1;32md:\\Utilisateurs\\UPS\\Graph Mining\\Projet-Graphes-et-Reseaux-main\\RSAlgorithms-master\\utility\\similarity.py:8\u001b[0m\n\u001b[0;32m      6\u001b[0m \u001b[39mfrom\u001b[39;00m \u001b[39mmath\u001b[39;00m \u001b[39mimport\u001b[39;00m sqrt\n\u001b[0;32m      7\u001b[0m \u001b[39mfrom\u001b[39;00m \u001b[39mutility\u001b[39;00m\u001b[39m.\u001b[39;00m\u001b[39mtools\u001b[39;00m \u001b[39mimport\u001b[39;00m sigmoid_2\n\u001b[1;32m----> 8\u001b[0m \u001b[39mimport\u001b[39;00m \u001b[39mnetworkx\u001b[39;00m \u001b[39mas\u001b[39;00m \u001b[39mnx\u001b[39;00m\n\u001b[0;32m     11\u001b[0m \u001b[39m# x1,x2 is the form of np.array.\u001b[39;00m\n\u001b[0;32m     13\u001b[0m \u001b[39mdef\u001b[39;00m \u001b[39madam_adar\u001b[39m(u, k, g):\n",
      "\u001b[1;31mModuleNotFoundError\u001b[0m: No module named 'networkx'"
     ]
    }
   ],
   "source": [
    "from model.social_reg import SocialReg\n",
    "\n",
    "rmses = []\n",
    "maes = []\n",
    "bmf = SocialReg()\n",
    "for i in range(bmf.config.k_fold_num):\n",
    "    bmf.train_model(i)\n",
    "    rmse, mae = bmf.predict_model()\n",
    "    print(\"current best rmse is %0.5f, mae is %0.5f\" % (rmse, mae))\n",
    "    rmses.append(rmse)\n",
    "    maes.append(mae)\n",
    "rmse_avg = sum(rmses) / 5\n",
    "mae_avg = sum(maes) / 5\n",
    "print(\"the rmses are %s\" % rmses)\n",
    "print(\"the maes are %s\" % maes)\n",
    "print(\"the average of rmses is %s \" % rmse_avg)\n",
    "print(\"the average of maes is %s \" % mae_avg)"
   ]
  },
  {
   "cell_type": "markdown",
   "metadata": {},
   "source": [
    "EPINIONS"
   ]
  },
  {
   "cell_type": "code",
   "execution_count": 6,
   "metadata": {},
   "outputs": [
    {
     "name": "stdout",
     "output_type": "stream",
     "text": [
      "ft -fold0 data generated finished!\n",
      "ft -fold1 data generated finished!\n",
      "ft -fold2 data generated finished!\n",
      "ft -fold3 data generated finished!\n",
      "ft -fold4 data generated finished!\n",
      "All Data Generated Done!\n"
     ]
    }
   ],
   "source": [
    "from utility.cross_validation import split_5_folds\n",
    "from configx.configx import ConfigX\n",
    "\n",
    "import os \n",
    "\n",
    "configx = ConfigX()\n",
    "configx.k_fold_num = 5 \n",
    "configx.rating_path = \"../data_epinions/ratings_data.txt\"\n",
    "configx.trust_path = \"../data_epinions/trust_data.txt\"\n",
    "configx.rating_cv_path = \"../data/cv/\"\n",
    "\n",
    "split_5_folds(configx)"
   ]
  },
  {
   "cell_type": "code",
   "execution_count": 7,
   "metadata": {},
   "outputs": [
    {
     "name": "stdout",
     "output_type": "stream",
     "text": [
      "{\n",
      "    'dataset_name': 'ft',\n",
      "    'k_fold_num': 5,\n",
      "    'rating_path': '../data/ft_ratings.txt',\n",
      "    'rating_cv_path': '../data/cv/',\n",
      "    'trust_path': '../data/ft_trust.txt',\n",
      "    'sep': ' ',\n",
      "    'random_state': 0,\n",
      "    'size': 0.8,\n",
      "    'min_val': 0.5,\n",
      "    'max_val': 4.0,\n",
      "    'coldUserRating': 5,\n",
      "    'factor': 10,\n",
      "    'threshold': 0.0001,\n",
      "    'lr': 0.01,\n",
      "    'maxIter': 100,\n",
      "    'lambdaP': 0.001,\n",
      "    'lambdaQ': 0.001,\n",
      "    'gamma': 0,\n",
      "    'isEarlyStopping': False,\n",
      "    'result_path': '../results/',\n",
      "    'model_path': 'model/',\n",
      "    'result_log_path': 'log/'\n",
      "}\n",
      "<class 'model.social_rec.SocialRec'> iteration 1: loss = 308263.0521, delta_loss = -308263.05207 learning_Rate = 0.01000 rmse=2.15993 mae=1.86456\n",
      "<class 'model.social_rec.SocialRec'> iteration 2: loss = 216139.9275, delta_loss = 92123.12461 learning_Rate = 0.01000 rmse=1.88343 mae=1.59613\n",
      "<class 'model.social_rec.SocialRec'> iteration 3: loss = 174504.7244, delta_loss = 41635.20301 learning_Rate = 0.01000 rmse=1.71717 mae=1.44182\n"
     ]
    },
    {
     "ename": "KeyboardInterrupt",
     "evalue": "",
     "output_type": "error",
     "traceback": [
      "\u001b[1;31m---------------------------------------------------------------------------\u001b[0m",
      "\u001b[1;31mKeyboardInterrupt\u001b[0m                         Traceback (most recent call last)",
      "Cell \u001b[1;32mIn[7], line 7\u001b[0m\n\u001b[0;32m      5\u001b[0m bmf \u001b[39m=\u001b[39m SocialRec()\n\u001b[0;32m      6\u001b[0m \u001b[39mfor\u001b[39;00m i \u001b[39min\u001b[39;00m \u001b[39mrange\u001b[39m(bmf\u001b[39m.\u001b[39mconfig\u001b[39m.\u001b[39mk_fold_num):\n\u001b[1;32m----> 7\u001b[0m     bmf\u001b[39m.\u001b[39;49mtrain_model(i)\n\u001b[0;32m      8\u001b[0m     rmse, mae \u001b[39m=\u001b[39m bmf\u001b[39m.\u001b[39mpredict_model()\n\u001b[0;32m      9\u001b[0m     \u001b[39mprint\u001b[39m(\u001b[39m\"\u001b[39m\u001b[39mcurrent best rmse is \u001b[39m\u001b[39m%0.5f\u001b[39;00m\u001b[39m, mae is \u001b[39m\u001b[39m%0.5f\u001b[39;00m\u001b[39m\"\u001b[39m \u001b[39m%\u001b[39m (rmse, mae))\n",
      "File \u001b[1;32md:\\Utilisateurs\\UPS\\Graph Mining\\Projet-Graphes-et-Reseaux-main\\RSAlgorithms-master\\model\\social_rec.py:41\u001b[0m, in \u001b[0;36mSocialRec.train_model\u001b[1;34m(self, k)\u001b[0m\n\u001b[0;32m     39\u001b[0m u \u001b[39m=\u001b[39m \u001b[39mself\u001b[39m\u001b[39m.\u001b[39mrg\u001b[39m.\u001b[39muser[user]\n\u001b[0;32m     40\u001b[0m i \u001b[39m=\u001b[39m \u001b[39mself\u001b[39m\u001b[39m.\u001b[39mrg\u001b[39m.\u001b[39mitem[item]\n\u001b[1;32m---> 41\u001b[0m error \u001b[39m=\u001b[39m rating \u001b[39m-\u001b[39m \u001b[39mself\u001b[39;49m\u001b[39m.\u001b[39;49mpredict(user, item)\n\u001b[0;32m     42\u001b[0m \u001b[39mself\u001b[39m\u001b[39m.\u001b[39mloss \u001b[39m+\u001b[39m\u001b[39m=\u001b[39m error \u001b[39m*\u001b[39m\u001b[39m*\u001b[39m \u001b[39m2\u001b[39m\n\u001b[0;32m     43\u001b[0m p, q \u001b[39m=\u001b[39m \u001b[39mself\u001b[39m\u001b[39m.\u001b[39mP[u], \u001b[39mself\u001b[39m\u001b[39m.\u001b[39mQ[i]\n",
      "File \u001b[1;32md:\\Utilisateurs\\UPS\\Graph Mining\\Projet-Graphes-et-Reseaux-main\\RSAlgorithms-master\\model\\mf.py:91\u001b[0m, in \u001b[0;36mMF.predict\u001b[1;34m(self, u, i)\u001b[0m\n\u001b[0;32m     89\u001b[0m \u001b[39mdef\u001b[39;00m \u001b[39mpredict\u001b[39m(\u001b[39mself\u001b[39m, u, i):\n\u001b[0;32m     90\u001b[0m     \u001b[39mif\u001b[39;00m \u001b[39mself\u001b[39m\u001b[39m.\u001b[39mrg\u001b[39m.\u001b[39mcontainsUser(u) \u001b[39mand\u001b[39;00m \u001b[39mself\u001b[39m\u001b[39m.\u001b[39mrg\u001b[39m.\u001b[39mcontainsItem(i):\n\u001b[1;32m---> 91\u001b[0m         \u001b[39mreturn\u001b[39;00m \u001b[39mself\u001b[39;49m\u001b[39m.\u001b[39;49mP[\u001b[39mself\u001b[39;49m\u001b[39m.\u001b[39;49mrg\u001b[39m.\u001b[39;49muser[u]]\u001b[39m.\u001b[39;49mdot(\u001b[39mself\u001b[39;49m\u001b[39m.\u001b[39;49mQ[\u001b[39mself\u001b[39;49m\u001b[39m.\u001b[39;49mrg\u001b[39m.\u001b[39;49mitem[i]])\n\u001b[0;32m     92\u001b[0m     \u001b[39melif\u001b[39;00m \u001b[39mself\u001b[39m\u001b[39m.\u001b[39mrg\u001b[39m.\u001b[39mcontainsUser(u) \u001b[39mand\u001b[39;00m \u001b[39mnot\u001b[39;00m \u001b[39mself\u001b[39m\u001b[39m.\u001b[39mrg\u001b[39m.\u001b[39mcontainsItem(i):\n\u001b[0;32m     93\u001b[0m         \u001b[39mreturn\u001b[39;00m \u001b[39mself\u001b[39m\u001b[39m.\u001b[39mrg\u001b[39m.\u001b[39muserMeans[u]\n",
      "\u001b[1;31mKeyboardInterrupt\u001b[0m: "
     ]
    }
   ],
   "source": [
    "from model.social_rec import SocialRec\n",
    "\n",
    "rmses = []\n",
    "maes = []\n",
    "bmf = SocialRec()\n",
    "for i in range(bmf.config.k_fold_num):\n",
    "    bmf.train_model(i)\n",
    "    rmse, mae = bmf.predict_model()\n",
    "    print(\"current best rmse is %0.5f, mae is %0.5f\" % (rmse, mae))\n",
    "    rmses.append(rmse)\n",
    "    maes.append(mae)\n",
    "rmse_avg = sum(rmses) / 5\n",
    "mae_avg = sum(maes) / 5\n",
    "print(\"the rmses are %s\" % rmses)\n",
    "print(\"the maes are %s\" % maes)\n",
    "print(\"the average of rmses is %s \" % rmse_avg)\n",
    "print(\"the average of maes is %s \" % mae_avg)"
   ]
  },
  {
   "cell_type": "markdown",
   "metadata": {},
   "source": [
    "DELICIOUS"
   ]
  },
  {
   "cell_type": "code",
   "execution_count": 40,
   "metadata": {},
   "outputs": [
    {
     "name": "stdout",
     "output_type": "stream",
     "text": [
      "ft -fold0 data generated finished!\n",
      "ft -fold1 data generated finished!\n",
      "ft -fold2 data generated finished!\n",
      "ft -fold3 data generated finished!\n",
      "ft -fold4 data generated finished!\n",
      "All Data Generated Done!\n"
     ]
    }
   ],
   "source": [
    "from utility.cross_validation import split_5_folds\n",
    "from configx.configx import ConfigX\n",
    "\n",
    "import os \n",
    "\n",
    "configx = ConfigX()\n",
    "configx.k_fold_num = 5 \n",
    "configx.rating_path = \"../data_delicious/ratings.dat\"\n",
    "configx.trust_path = \"../data_delicious/trust.dat\"\n",
    "configx.rating_cv_path = \"../data_delicious/cv/\"\n",
    "\n",
    "split_5_folds(configx)"
   ]
  },
  {
   "cell_type": "code",
   "execution_count": 41,
   "metadata": {},
   "outputs": [
    {
     "name": "stdout",
     "output_type": "stream",
     "text": [
      "{\n",
      "    'dataset_name': 'ft',\n",
      "    'k_fold_num': 5,\n",
      "    'rating_path': '../data/ft_ratings.txt',\n",
      "    'rating_cv_path': '../data/cv/',\n",
      "    'trust_path': '../data/ft_trust.txt',\n",
      "    'sep': ' ',\n",
      "    'random_state': 0,\n",
      "    'size': 0.8,\n",
      "    'min_val': 0.5,\n",
      "    'max_val': 4.0,\n",
      "    'coldUserRating': 5,\n",
      "    'factor': 10,\n",
      "    'threshold': 0.0001,\n",
      "    'lr': 0.01,\n",
      "    'maxIter': 100,\n",
      "    'lambdaP': 0.001,\n",
      "    'lambdaQ': 0.001,\n",
      "    'gamma': 0,\n",
      "    'isEarlyStopping': False,\n",
      "    'result_path': '../results/',\n",
      "    'model_path': 'model/',\n",
      "    'result_log_path': 'log/'\n",
      "}\n",
      "<class 'model.social_rec.SocialRec'> iteration 1: loss = 111373.7118, delta_loss = -111373.71181 learning_Rate = 0.01000 rmse=3.50525 mae=2.18988\n",
      "<class 'model.social_rec.SocialRec'> iteration 2: loss = 88341.7937, delta_loss = 23031.91815 learning_Rate = 0.01000 rmse=3.32768 mae=2.04610\n",
      "<class 'model.social_rec.SocialRec'> iteration 3: loss = 68106.5890, delta_loss = 20235.20464 learning_Rate = 0.01000 rmse=3.22044 mae=1.94700\n",
      "<class 'model.social_rec.SocialRec'> iteration 4: loss = 51754.6351, delta_loss = 16351.95390 learning_Rate = 0.01000 rmse=3.15767 mae=1.88506\n",
      "<class 'model.social_rec.SocialRec'> iteration 5: loss = 40005.7775, delta_loss = 11748.85758 learning_Rate = 0.01000 rmse=3.12105 mae=1.84758\n",
      "<class 'model.social_rec.SocialRec'> iteration 6: loss = 32080.9971, delta_loss = 7924.78049 learning_Rate = 0.01000 rmse=3.09987 mae=1.82525\n",
      "<class 'model.social_rec.SocialRec'> iteration 7: loss = 26709.9861, delta_loss = 5371.01097 learning_Rate = 0.01000 rmse=3.08700 mae=1.81153\n",
      "<class 'model.social_rec.SocialRec'> iteration 8: loss = 22944.4583, delta_loss = 3765.52775 learning_Rate = 0.01000 rmse=3.07870 mae=1.80285\n",
      "<class 'model.social_rec.SocialRec'> iteration 9: loss = 20204.2429, delta_loss = 2740.21543 learning_Rate = 0.01000 rmse=3.07328 mae=1.79738\n",
      "<class 'model.social_rec.SocialRec'> iteration 10: loss = 18139.0054, delta_loss = 2065.23750 learning_Rate = 0.01000 rmse=3.06966 mae=1.79379\n",
      "<class 'model.social_rec.SocialRec'> iteration 11: loss = 16532.2537, delta_loss = 1606.75173 learning_Rate = 0.01000 rmse=3.06728 mae=1.79145\n",
      "<class 'model.social_rec.SocialRec'> iteration 12: loss = 15246.7036, delta_loss = 1285.55006 learning_Rate = 0.01000 rmse=3.06575 mae=1.78998\n",
      "<class 'model.social_rec.SocialRec'> iteration 13: loss = 14192.8713, delta_loss = 1053.83227 learning_Rate = 0.01000 rmse=3.06476 mae=1.78910\n",
      "<class 'model.social_rec.SocialRec'> iteration 14: loss = 13310.7887, delta_loss = 882.08264 learning_Rate = 0.01000 rmse=3.06414 mae=1.78860\n",
      "<class 'model.social_rec.SocialRec'> iteration 15: loss = 12559.1783, delta_loss = 751.61043 learning_Rate = 0.01000 rmse=3.06378 mae=1.78838\n",
      "<class 'model.social_rec.SocialRec'> iteration 16: loss = 11908.8826, delta_loss = 650.29571 learning_Rate = 0.01000 rmse=3.06361 mae=1.78837\n",
      "<class 'model.social_rec.SocialRec'> iteration 17: loss = 11338.7720, delta_loss = 570.11050 learning_Rate = 0.01000 rmse=3.06358 mae=1.78852\n",
      "<class 'model.social_rec.SocialRec'> iteration 18: loss = 10833.1498, delta_loss = 505.62223 learning_Rate = 0.01000 rmse=3.06367 mae=1.78880\n",
      "<class 'model.social_rec.SocialRec'> iteration 19: loss = 10380.0881, delta_loss = 453.06174 learning_Rate = 0.01000 rmse=3.06385 mae=1.78918\n",
      "<class 'model.social_rec.SocialRec'> iteration 20: loss = 9970.3507, delta_loss = 409.73741 learning_Rate = 0.01000 rmse=3.06409 mae=1.78964\n",
      "<class 'model.social_rec.SocialRec'> iteration 21: loss = 9596.6798, delta_loss = 373.67091 learning_Rate = 0.01000 rmse=3.06441 mae=1.79013\n",
      "<class 'model.social_rec.SocialRec'> iteration 22: loss = 9253.3061, delta_loss = 343.37365 learning_Rate = 0.01000 rmse=3.06476 mae=1.79065\n",
      "<class 'model.social_rec.SocialRec'> iteration 23: loss = 8935.5980, delta_loss = 317.70814 learning_Rate = 0.01000 rmse=3.06515 mae=1.79122\n",
      "<class 'model.social_rec.SocialRec'> iteration 24: loss = 8639.8007, delta_loss = 295.79732 learning_Rate = 0.01000 rmse=3.06558 mae=1.79184\n",
      "<class 'model.social_rec.SocialRec'> iteration 25: loss = 8362.8400, delta_loss = 276.96062 learning_Rate = 0.01000 rmse=3.06603 mae=1.79247\n",
      "<class 'model.social_rec.SocialRec'> iteration 26: loss = 8102.1743, delta_loss = 260.66577 learning_Rate = 0.01000 rmse=3.06648 mae=1.79310\n",
      "<class 'model.social_rec.SocialRec'> iteration 27: loss = 7855.6828, delta_loss = 246.49148 learning_Rate = 0.01000 rmse=3.06694 mae=1.79372\n",
      "<class 'model.social_rec.SocialRec'> iteration 28: loss = 7621.5842, delta_loss = 234.09860 learning_Rate = 0.01000 rmse=3.06739 mae=1.79433\n",
      "<class 'model.social_rec.SocialRec'> iteration 29: loss = 7398.3757, delta_loss = 223.20851 learning_Rate = 0.01000 rmse=3.06785 mae=1.79495\n",
      "<class 'model.social_rec.SocialRec'> iteration 30: loss = 7184.7883, delta_loss = 213.58738 learning_Rate = 0.01000 rmse=3.06830 mae=1.79556\n",
      "<class 'model.social_rec.SocialRec'> iteration 31: loss = 6979.7529, delta_loss = 205.03537 learning_Rate = 0.01000 rmse=3.06876 mae=1.79616\n",
      "<class 'model.social_rec.SocialRec'> iteration 32: loss = 6782.3735, delta_loss = 197.37937 learning_Rate = 0.01000 rmse=3.06922 mae=1.79678\n",
      "<class 'model.social_rec.SocialRec'> iteration 33: loss = 6591.9050, delta_loss = 190.46855 learning_Rate = 0.01000 rmse=3.06968 mae=1.79738"
     ]
    },
    {
     "ename": "KeyboardInterrupt",
     "evalue": "",
     "output_type": "error",
     "traceback": [
      "\u001b[1;31m---------------------------------------------------------------------------\u001b[0m",
      "\u001b[1;31mKeyboardInterrupt\u001b[0m                         Traceback (most recent call last)",
      "Cell \u001b[1;32mIn[41], line 7\u001b[0m\n\u001b[0;32m      5\u001b[0m bmf \u001b[39m=\u001b[39m SocialRec()\n\u001b[0;32m      6\u001b[0m \u001b[39mfor\u001b[39;00m i \u001b[39min\u001b[39;00m \u001b[39mrange\u001b[39m(bmf\u001b[39m.\u001b[39mconfig\u001b[39m.\u001b[39mk_fold_num):\n\u001b[1;32m----> 7\u001b[0m     bmf\u001b[39m.\u001b[39;49mtrain_model(i)\n\u001b[0;32m      8\u001b[0m     rmse, mae \u001b[39m=\u001b[39m bmf\u001b[39m.\u001b[39mpredict_model()\n\u001b[0;32m      9\u001b[0m     \u001b[39mprint\u001b[39m(\u001b[39m\"\u001b[39m\u001b[39mcurrent best rmse is \u001b[39m\u001b[39m%0.5f\u001b[39;00m\u001b[39m, mae is \u001b[39m\u001b[39m%0.5f\u001b[39;00m\u001b[39m\"\u001b[39m \u001b[39m%\u001b[39m (rmse, mae))\n",
      "File \u001b[1;32md:\\Utilisateurs\\UPS\\Graph Mining\\Projet-Graphes-et-Reseaux-main\\RSAlgorithms-master\\model\\social_rec.py:70\u001b[0m, in \u001b[0;36mSocialRec.train_model\u001b[1;34m(self, k)\u001b[0m\n\u001b[0;32m     66\u001b[0m \u001b[39mself\u001b[39m\u001b[39m.\u001b[39mloss \u001b[39m+\u001b[39m\u001b[39m=\u001b[39m \u001b[39mself\u001b[39m\u001b[39m.\u001b[39mconfig\u001b[39m.\u001b[39mlambdaP \u001b[39m*\u001b[39m (\u001b[39mself\u001b[39m\u001b[39m.\u001b[39mP \u001b[39m*\u001b[39m \u001b[39mself\u001b[39m\u001b[39m.\u001b[39mP)\u001b[39m.\u001b[39msum() \u001b[39m+\u001b[39m \u001b[39mself\u001b[39m\u001b[39m.\u001b[39mconfig\u001b[39m.\u001b[39mlambdaQ \u001b[39m*\u001b[39m (\u001b[39mself\u001b[39m\u001b[39m.\u001b[39mQ \u001b[39m*\u001b[39m \u001b[39mself\u001b[39m\u001b[39m.\u001b[39mQ)\u001b[39m.\u001b[39msum() \\\n\u001b[0;32m     67\u001b[0m              \u001b[39m+\u001b[39m \u001b[39mself\u001b[39m\u001b[39m.\u001b[39mconfig\u001b[39m.\u001b[39mlambdaZ \u001b[39m*\u001b[39m (\u001b[39mself\u001b[39m\u001b[39m.\u001b[39mZ \u001b[39m*\u001b[39m \u001b[39mself\u001b[39m\u001b[39m.\u001b[39mZ)\u001b[39m.\u001b[39msum()\n\u001b[0;32m     69\u001b[0m iteration \u001b[39m+\u001b[39m\u001b[39m=\u001b[39m \u001b[39m1\u001b[39m\n\u001b[1;32m---> 70\u001b[0m \u001b[39mif\u001b[39;00m \u001b[39mself\u001b[39;49m\u001b[39m.\u001b[39;49misConverged(iteration):\n\u001b[0;32m     71\u001b[0m     \u001b[39mbreak\u001b[39;00m\n",
      "File \u001b[1;32md:\\Utilisateurs\\UPS\\Graph Mining\\Projet-Graphes-et-Reseaux-main\\RSAlgorithms-master\\model\\mf.py:122\u001b[0m, in \u001b[0;36mMF.isConverged\u001b[1;34m(self, iter)\u001b[0m\n\u001b[0;32m    119\u001b[0m     \u001b[39mself\u001b[39m\u001b[39m.\u001b[39mlastRmse \u001b[39m=\u001b[39m rmse\n\u001b[0;32m    120\u001b[0m     \u001b[39mself\u001b[39m\u001b[39m.\u001b[39mlastMae \u001b[39m=\u001b[39m mae\n\u001b[1;32m--> 122\u001b[0m \u001b[39mprint\u001b[39;49m(\u001b[39m'\u001b[39;49m\u001b[39m%s\u001b[39;49;00m\u001b[39m iteration \u001b[39;49m\u001b[39m%d\u001b[39;49;00m\u001b[39m: loss = \u001b[39;49m\u001b[39m%.4f\u001b[39;49;00m\u001b[39m, delta_loss = \u001b[39;49m\u001b[39m%.5f\u001b[39;49;00m\u001b[39m learning_Rate = \u001b[39;49m\u001b[39m%.5f\u001b[39;49;00m\u001b[39m rmse=\u001b[39;49m\u001b[39m%.5f\u001b[39;49;00m\u001b[39m mae=\u001b[39;49m\u001b[39m%.5f\u001b[39;49;00m\u001b[39m'\u001b[39;49m \u001b[39m%\u001b[39;49m \\\n\u001b[0;32m    123\u001b[0m       (\u001b[39mself\u001b[39;49m\u001b[39m.\u001b[39;49m\u001b[39m__class__\u001b[39;49m, \u001b[39miter\u001b[39;49m, \u001b[39mself\u001b[39;49m\u001b[39m.\u001b[39;49mloss, deltaLoss, \u001b[39mself\u001b[39;49m\u001b[39m.\u001b[39;49mconfig\u001b[39m.\u001b[39;49mlr, rmse, mae))\n\u001b[0;32m    125\u001b[0m \u001b[39m# check if converged\u001b[39;00m\n\u001b[0;32m    126\u001b[0m cond \u001b[39m=\u001b[39m \u001b[39mabs\u001b[39m(deltaLoss) \u001b[39m<\u001b[39m \u001b[39mself\u001b[39m\u001b[39m.\u001b[39mconfig\u001b[39m.\u001b[39mthreshold\n",
      "File \u001b[1;32m~\\AppData\\Roaming\\Python\\Python39\\site-packages\\ipykernel\\iostream.py:563\u001b[0m, in \u001b[0;36mOutStream.write\u001b[1;34m(self, string)\u001b[0m\n\u001b[0;32m    561\u001b[0m         \u001b[39mself\u001b[39m\u001b[39m.\u001b[39mpub_thread\u001b[39m.\u001b[39mschedule(\u001b[39mself\u001b[39m\u001b[39m.\u001b[39m_flush)\n\u001b[0;32m    562\u001b[0m     \u001b[39melse\u001b[39;00m:\n\u001b[1;32m--> 563\u001b[0m         \u001b[39mself\u001b[39;49m\u001b[39m.\u001b[39;49m_schedule_flush()\n\u001b[0;32m    565\u001b[0m \u001b[39mreturn\u001b[39;00m \u001b[39mlen\u001b[39m(string)\n",
      "File \u001b[1;32m~\\AppData\\Roaming\\Python\\Python39\\site-packages\\ipykernel\\iostream.py:469\u001b[0m, in \u001b[0;36mOutStream._schedule_flush\u001b[1;34m(self)\u001b[0m\n\u001b[0;32m    466\u001b[0m \u001b[39mdef\u001b[39;00m \u001b[39m_schedule_in_thread\u001b[39m():\n\u001b[0;32m    467\u001b[0m     \u001b[39mself\u001b[39m\u001b[39m.\u001b[39m_io_loop\u001b[39m.\u001b[39mcall_later(\u001b[39mself\u001b[39m\u001b[39m.\u001b[39mflush_interval, \u001b[39mself\u001b[39m\u001b[39m.\u001b[39m_flush)\n\u001b[1;32m--> 469\u001b[0m \u001b[39mself\u001b[39;49m\u001b[39m.\u001b[39;49mpub_thread\u001b[39m.\u001b[39;49mschedule(_schedule_in_thread)\n",
      "File \u001b[1;32m~\\AppData\\Roaming\\Python\\Python39\\site-packages\\ipykernel\\iostream.py:210\u001b[0m, in \u001b[0;36mIOPubThread.schedule\u001b[1;34m(self, f)\u001b[0m\n\u001b[0;32m    208\u001b[0m     \u001b[39mself\u001b[39m\u001b[39m.\u001b[39m_events\u001b[39m.\u001b[39mappend(f)\n\u001b[0;32m    209\u001b[0m     \u001b[39m# wake event thread (message content is ignored)\u001b[39;00m\n\u001b[1;32m--> 210\u001b[0m     \u001b[39mself\u001b[39;49m\u001b[39m.\u001b[39;49m_event_pipe\u001b[39m.\u001b[39;49msend(\u001b[39mb\u001b[39;49m\u001b[39m\"\u001b[39;49m\u001b[39m\"\u001b[39;49m)\n\u001b[0;32m    211\u001b[0m \u001b[39melse\u001b[39;00m:\n\u001b[0;32m    212\u001b[0m     f()\n",
      "File \u001b[1;32m~\\AppData\\Roaming\\Python\\Python39\\site-packages\\zmq\\sugar\\socket.py:620\u001b[0m, in \u001b[0;36mSocket.send\u001b[1;34m(self, data, flags, copy, track, routing_id, group)\u001b[0m\n\u001b[0;32m    613\u001b[0m         data \u001b[39m=\u001b[39m zmq\u001b[39m.\u001b[39mFrame(\n\u001b[0;32m    614\u001b[0m             data,\n\u001b[0;32m    615\u001b[0m             track\u001b[39m=\u001b[39mtrack,\n\u001b[0;32m    616\u001b[0m             copy\u001b[39m=\u001b[39mcopy \u001b[39mor\u001b[39;00m \u001b[39mNone\u001b[39;00m,\n\u001b[0;32m    617\u001b[0m             copy_threshold\u001b[39m=\u001b[39m\u001b[39mself\u001b[39m\u001b[39m.\u001b[39mcopy_threshold,\n\u001b[0;32m    618\u001b[0m         )\n\u001b[0;32m    619\u001b[0m     data\u001b[39m.\u001b[39mgroup \u001b[39m=\u001b[39m group\n\u001b[1;32m--> 620\u001b[0m \u001b[39mreturn\u001b[39;00m \u001b[39msuper\u001b[39;49m()\u001b[39m.\u001b[39;49msend(data, flags\u001b[39m=\u001b[39;49mflags, copy\u001b[39m=\u001b[39;49mcopy, track\u001b[39m=\u001b[39;49mtrack)\n",
      "File \u001b[1;32mzmq\\backend\\cython\\socket.pyx:746\u001b[0m, in \u001b[0;36mzmq.backend.cython.socket.Socket.send\u001b[1;34m()\u001b[0m\n",
      "File \u001b[1;32mzmq\\backend\\cython\\socket.pyx:793\u001b[0m, in \u001b[0;36mzmq.backend.cython.socket.Socket.send\u001b[1;34m()\u001b[0m\n",
      "File \u001b[1;32mzmq\\backend\\cython\\socket.pyx:250\u001b[0m, in \u001b[0;36mzmq.backend.cython.socket._send_copy\u001b[1;34m()\u001b[0m\n",
      "File \u001b[1;32m~\\AppData\\Roaming\\Python\\Python39\\site-packages\\zmq\\backend\\cython\\checkrc.pxd:13\u001b[0m, in \u001b[0;36mzmq.backend.cython.checkrc._check_rc\u001b[1;34m()\u001b[0m\n",
      "\u001b[1;31mKeyboardInterrupt\u001b[0m: "
     ]
    }
   ],
   "source": [
    "from model.social_rec import SocialRec\n",
    "\n",
    "rmses = []\n",
    "maes = []\n",
    "bmf = SocialRec()\n",
    "for i in range(bmf.config.k_fold_num):\n",
    "    bmf.train_model(i)\n",
    "    rmse, mae = bmf.predict_model()\n",
    "    print(\"current best rmse is %0.5f, mae is %0.5f\" % (rmse, mae))\n",
    "    rmses.append(rmse)\n",
    "    maes.append(mae)\n",
    "rmse_avg = sum(rmses) / 5\n",
    "mae_avg = sum(maes) / 5\n",
    "print(\"the rmses are %s\" % rmses)\n",
    "print(\"the maes are %s\" % maes)\n",
    "print(\"the average of rmses is %s \" % rmse_avg)\n",
    "print(\"the average of maes is %s \" % mae_avg)"
   ]
  },
  {
   "cell_type": "code",
   "execution_count": 35,
   "metadata": {},
   "outputs": [],
   "source": [
    "# import numpy\n",
    "# data = numpy.loadtxt(\"../data_delicious/user_taggedbookmarks-timestamps.dat\",usecols=[0,1,3],dtype=numpy.int64)"
   ]
  },
  {
   "cell_type": "code",
   "execution_count": 36,
   "metadata": {},
   "outputs": [
    {
     "data": {
      "text/plain": [
       "array([[            8,             1, 1289255362000],\n",
       "       [            8,             2, 1289255159000],\n",
       "       [            8,             7, 1289238901000],\n",
       "       ...,\n",
       "       [       108035,         30994, 1277223715000],\n",
       "       [       108035,         30994, 1277223715000],\n",
       "       [       108035,         30994, 1277223715000]], dtype=int64)"
      ]
     },
     "execution_count": 36,
     "metadata": {},
     "output_type": "execute_result"
    }
   ],
   "source": [
    "# data"
   ]
  },
  {
   "cell_type": "code",
   "execution_count": 37,
   "metadata": {},
   "outputs": [
    {
     "name": "stdout",
     "output_type": "stream",
     "text": [
      "220023324000\n"
     ]
    }
   ],
   "source": [
    "# mi = numpy.min(data[:,2])\n",
    "# ma = numpy.max(data[:,2])\n",
    "# print(ma-mi)\n",
    "# data[:,2] = ((data[:,2]-mi)/(ma-mi))*2"
   ]
  },
  {
   "cell_type": "code",
   "execution_count": 38,
   "metadata": {},
   "outputs": [
    {
     "data": {
      "text/plain": [
       "array([[     8,      1,      1],\n",
       "       [     8,      2,      1],\n",
       "       [     8,      7,      1],\n",
       "       ...,\n",
       "       [108035,  30994,      1],\n",
       "       [108035,  30994,      1],\n",
       "       [108035,  30994,      1]], dtype=int64)"
      ]
     },
     "execution_count": 38,
     "metadata": {},
     "output_type": "execute_result"
    }
   ],
   "source": [
    "# data"
   ]
  },
  {
   "cell_type": "code",
   "execution_count": 39,
   "metadata": {},
   "outputs": [],
   "source": [
    "# numpy.savetxt(\"../data_delicious/ratings.dat\",data,fmt=\"%d\")"
   ]
  }
 ],
 "metadata": {
  "kernelspec": {
   "display_name": "Python 3 (ipykernel)",
   "language": "python",
   "name": "python3"
  },
  "language_info": {
   "codemirror_mode": {
    "name": "ipython",
    "version": 3
   },
   "file_extension": ".py",
   "mimetype": "text/x-python",
   "name": "python",
   "nbconvert_exporter": "python",
   "pygments_lexer": "ipython3",
   "version": "3.9.7"
  },
  "vscode": {
   "interpreter": {
    "hash": "f07a9cec850f9104fc95ea0494484df5ee5d9a14128a89aec6d609f0f574ea61"
   }
  }
 },
 "nbformat": 4,
 "nbformat_minor": 2
}
