{
 "cells": [
  {
   "attachments": {},
   "cell_type": "markdown",
   "metadata": {},
   "source": [
    "On a réutilisé le bout de code présent sur le github servant de tutoriel pour pouvoir éxecuter le modèle voulu"
   ]
  },
  {
   "attachments": {},
   "cell_type": "markdown",
   "metadata": {},
   "source": [
    "On sépare le dataset en 5 plis servant à faire une validation croisée."
   ]
  },
  {
   "cell_type": "code",
   "execution_count": 1,
   "metadata": {},
   "outputs": [
    {
     "name": "stdout",
     "output_type": "stream",
     "text": [
      "ft -fold0 data generated finished!\n",
      "ft -fold1 data generated finished!\n",
      "ft -fold2 data generated finished!\n",
      "ft -fold3 data generated finished!\n",
      "ft -fold4 data generated finished!\n",
      "All Data Generated Done!\n"
     ]
    }
   ],
   "source": [
    "from utility.cross_validation import split_5_folds\n",
    "from configx.configx import ConfigX\n",
    "\n",
    "import os \n",
    "os.chdir(os.getcwd()+\"\\\\model\")\n",
    "configx = ConfigX()\n",
    "configx.k_fold_num = 5 \n",
    "configx.rating_path = \"../data/ft_ratings.txt\"\n",
    "configx.trust_path = \"../data/ft_trust.txt\"\n",
    "configx.rating_cv_path = \"../data/cv/\"\n",
    "\n",
    "split_5_folds(configx)"
   ]
  },
  {
   "cell_type": "code",
   "execution_count": null,
   "metadata": {},
   "outputs": [],
   "source": [
    "from model.social_reg import SocialReg\n",
    "\n",
    "rmses = []\n",
    "maes = []\n",
    "bmf = SocialReg() #on appelle le modèle voulu avec la mesure de similarité voulue dans social_reg.py\n",
    "for i in range(bmf.config.k_fold_num):\n",
    "    bmf.train_model(i)\n",
    "    rmse, mae = bmf.predict_model()\n",
    "    print(\"current best rmse is %0.5f, mae is %0.5f\" % (rmse, mae))\n",
    "    rmses.append(rmse)\n",
    "    maes.append(mae)\n",
    "rmse_avg = sum(rmses) / 5\n",
    "mae_avg = sum(maes) / 5\n",
    "print(\"the rmses are %s\" % rmses)\n",
    "print(\"the maes are %s\" % maes)\n",
    "print(\"the average of rmses is %s \" % rmse_avg)\n",
    "print(\"the average of maes is %s \" % mae_avg)"
   ]
  },
  {
   "cell_type": "markdown",
   "metadata": {},
   "source": [
    "EPINIONS"
   ]
  },
  {
   "cell_type": "code",
   "execution_count": null,
   "metadata": {},
   "outputs": [],
   "source": [
    "from utility.cross_validation import split_5_folds\n",
    "from configx.configx import ConfigX\n",
    "\n",
    "import os \n",
    "\n",
    "configx = ConfigX()\n",
    "configx.k_fold_num = 5 \n",
    "configx.rating_path = \"../data_epinions/ratings_data.txt\"\n",
    "configx.trust_path = \"../data_epinions/trust_data.txt\"\n",
    "configx.rating_cv_path = \"../data/cv/\"\n",
    "\n",
    "split_5_folds(configx)"
   ]
  },
  {
   "cell_type": "code",
   "execution_count": null,
   "metadata": {},
   "outputs": [],
   "source": [
    "from model.social_reg import SocialReg\n",
    "\n",
    "rmses = []\n",
    "maes = []\n",
    "tcsr = SocialReg()\n",
    "# print(bmf.rg.trainSet_u[1])\n",
    "for i in range(tcsr.config.k_fold_num):\n",
    "    print('the %dth cross validation training' % i)\n",
    "    tcsr.train_model(i)\n",
    "    rmse, mae = tcsr.predict_model()\n",
    "    rmses.append(rmse)\n",
    "    maes.append(mae)\n",
    "rmse_avg = sum(rmses) / 5\n",
    "mae_avg = sum(maes) / 5\n",
    "print(\"the rmses are %s\" % rmses)\n",
    "print(\"the maes are %s\" % maes)\n",
    "print(\"the average of rmses is %s \" % rmse_avg)\n",
    "print(\"the average of maes is %s \" % mae_avg)"
   ]
  },
  {
   "cell_type": "markdown",
   "metadata": {},
   "source": [
    "DELICIOUS"
   ]
  },
  {
   "attachments": {},
   "cell_type": "markdown",
   "metadata": {},
   "source": [
    "Nous avons besoin de faire un peu de pré traitement avant d'envoyer les données du graphe dans le modèle."
   ]
  },
  {
   "cell_type": "code",
   "execution_count": null,
   "metadata": {},
   "outputs": [],
   "source": [
    "import numpy\n",
    "#on load les données avec les colonnes qui nous intéressent\n",
    "#pour les ratings on va prendre les colonnes user / bookmark / timestamp\n",
    "#pour le trust user1/user2/timestamp\n",
    "\n",
    "#les timestamps correspondant au temps du rating ou à celui du début de trust\n",
    "\n",
    "data1 = numpy.loadtxt(\"../data_delicious/user_taggedbookmarks-timestamps.dat\",usecols=[0,1,3],dtype=numpy.float64)\n",
    "data2 = numpy.loadtxt(\"../data_delicious/user_contacts-timestamps.dat\",dtype=numpy.float64)\n",
    "\n",
    "#on récupère les min et max de chaque pour pouvoir appliquer le même MinMax aux deux étant donné qu'ils sont sur la même échelle de temps\n",
    "mi1 = numpy.min(data1[:,2])\n",
    "ma1 = numpy.max(data1[:,2])\n",
    "print(mi1,ma1)\n",
    "\n",
    "mi2 = numpy.min(data2[:,2])\n",
    "ma2 = numpy.max(data2[:,2])\n",
    "print(mi2,ma2)\n",
    "\n",
    "#il se trouve que ma1>ma2 et mi1<mi2\n",
    "data1[:,2] = ((data1[:,2]-mi1)/(ma1-mi1))\n",
    "data2[:,2] = ((data2[:,2]-mi1)/(ma1-mi1))\n",
    "\n",
    "#on sauvegarde les ratings et trust entre 0 et 1 avec 0.1 de précision\n",
    "numpy.savetxt(\"../data_delicious/ratings.dat\",data1,fmt=\"%d %d %1.1f\")\n",
    "numpy.savetxt(\"../data_delicious/trust.dat\",data2,fmt=\"%d %d %1.1f\")"
   ]
  },
  {
   "cell_type": "code",
   "execution_count": 2,
   "metadata": {},
   "outputs": [
    {
     "name": "stdout",
     "output_type": "stream",
     "text": [
      "ft -fold0 data generated finished!\n",
      "ft -fold1 data generated finished!\n",
      "ft -fold2 data generated finished!\n",
      "ft -fold3 data generated finished!\n",
      "ft -fold4 data generated finished!\n",
      "All Data Generated Done!\n"
     ]
    }
   ],
   "source": [
    "from utility.cross_validation import split_5_folds\n",
    "from configx.configx import ConfigX\n",
    "\n",
    "\n",
    "\n",
    "configx = ConfigX()\n",
    "configx.k_fold_num = 5 \n",
    "configx.rating_path = \"../data_delicious/ratings.dat\"\n",
    "configx.trust_path = \"../data_delicious/trust.dat\"\n",
    "configx.rating_cv_path = \"../data_delicious/cv/\"\n",
    "\n",
    "split_5_folds(configx)"
   ]
  },
  {
   "cell_type": "code",
   "execution_count": null,
   "metadata": {},
   "outputs": [],
   "source": [
    "from model.social_reg import SocialReg\n",
    "\n",
    "rmses = []\n",
    "maes = []\n",
    "tcsr = SocialReg()\n",
    "# print(bmf.rg.trainSet_u[1])\n",
    "for i in range(tcsr.config.k_fold_num):\n",
    "    print('the %dth cross validation training' % i)\n",
    "    tcsr.train_model(i)\n",
    "    rmse, mae = tcsr.predict_model()\n",
    "    rmses.append(rmse)\n",
    "    maes.append(mae)\n",
    "rmse_avg = sum(rmses) / 5\n",
    "mae_avg = sum(maes) / 5\n",
    "print(\"the rmses are %s\" % rmses)\n",
    "print(\"the maes are %s\" % maes)\n",
    "print(\"the average of rmses is %s \" % rmse_avg)\n",
    "print(\"the average of maes is %s \" % mae_avg)"
   ]
  }
 ],
 "metadata": {
  "kernelspec": {
   "display_name": "Python 3 (ipykernel)",
   "language": "python",
   "name": "python3"
  },
  "language_info": {
   "codemirror_mode": {
    "name": "ipython",
    "version": 3
   },
   "file_extension": ".py",
   "mimetype": "text/x-python",
   "name": "python",
   "nbconvert_exporter": "python",
   "pygments_lexer": "ipython3",
   "version": "3.9.0 (tags/v3.9.0:9cf6752, Oct  5 2020, 15:34:40) [MSC v.1927 64 bit (AMD64)]"
  },
  "vscode": {
   "interpreter": {
    "hash": "f07a9cec850f9104fc95ea0494484df5ee5d9a14128a89aec6d609f0f574ea61"
   }
  }
 },
 "nbformat": 4,
 "nbformat_minor": 2
}
