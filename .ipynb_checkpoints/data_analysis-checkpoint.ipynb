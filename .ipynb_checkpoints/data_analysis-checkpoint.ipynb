{
 "cells": [
  {
   "cell_type": "code",
   "execution_count": 1,
   "metadata": {},
   "outputs": [],
   "source": [
    "import networkx as nx\n",
    "import pandas as pd\n",
    "import seaborn as sns\n",
    "from scipy import stats\n",
    "import matplotlib.pyplot as plt\n",
    "import numpy as np"
   ]
  },
  {
   "cell_type": "code",
   "execution_count": 2,
   "metadata": {},
   "outputs": [],
   "source": [
    "pathDataEpinions = \"./data_epinions/\"\n",
    "pathDataDelicious = \"./data_delicious/\""
   ]
  },
  {
   "cell_type": "code",
   "execution_count": 3,
   "metadata": {},
   "outputs": [],
   "source": [
    "g_epinions_trust = nx.read_edgelist(pathDataEpinions+\"trust_data.txt\", create_using=nx.DiGraph, nodetype=int, data=((\"weight\", int),))"
   ]
  },
  {
   "cell_type": "code",
   "execution_count": 4,
   "metadata": {},
   "outputs": [],
   "source": [
    "g_delicious_contact = nx.read_edgelist(pathDataDelicious+\"user_contacts.dat\", create_using=nx.Graph, nodetype=int, data=((\"weight\", int),(\"weight\", int),(\"weight\", int),(\"weight\", int),(\"weight\", int),(\"weight\", int),))"
   ]
  },
  {
   "cell_type": "markdown",
   "metadata": {},
   "source": [
    "Taille"
   ]
  },
  {
   "cell_type": "code",
   "execution_count": 5,
   "metadata": {},
   "outputs": [
    {
     "name": "stdout",
     "output_type": "stream",
     "text": [
      "Nombre de noeuds :  49287\n",
      "Nombre d'aretes :  487182\n"
     ]
    }
   ],
   "source": [
    "nodes_epinions_trust = g_epinions_trust.number_of_nodes()\n",
    "print(\"Nombre de noeuds : \", nodes_epinions_trust)\n",
    "\n",
    "edges_epinions_trust = g_epinions_trust.number_of_edges()\n",
    "print(\"Nombre d'aretes : \", edges_epinions_trust)"
   ]
  },
  {
   "cell_type": "code",
   "execution_count": 6,
   "metadata": {},
   "outputs": [
    {
     "name": "stdout",
     "output_type": "stream",
     "text": [
      "Nombre de noeuds :  1861\n",
      "Nombre d'aretes :  7664\n"
     ]
    }
   ],
   "source": [
    "nodes_delicious_contact = g_delicious_contact.number_of_nodes()\n",
    "print(\"Nombre de noeuds : \", nodes_delicious_contact)\n",
    "\n",
    "edges_delicious_contact = g_delicious_contact.number_of_edges()\n",
    "print(\"Nombre d'aretes : \", edges_delicious_contact)"
   ]
  },
  {
   "cell_type": "markdown",
   "metadata": {},
   "source": [
    "Densité"
   ]
  },
  {
   "cell_type": "code",
   "execution_count": 7,
   "metadata": {},
   "outputs": [
    {
     "name": "stdout",
     "output_type": "stream",
     "text": [
      "Densité du graphe : 0.02005314105842537 %\n"
     ]
    }
   ],
   "source": [
    "users_epinions_trust = 49290\n",
    "max_edges_epinions_trust = (users_epinions_trust**2 - users_epinions_trust)\n",
    "density = edges_epinions_trust / max_edges_epinions_trust\n",
    "print(f\"Densité du graphe : {100 * density} %\")"
   ]
  },
  {
   "cell_type": "code",
   "execution_count": 8,
   "metadata": {},
   "outputs": [
    {
     "name": "stdout",
     "output_type": "stream",
     "text": [
      "Densité du graphe : 0.21998827724263753 %\n"
     ]
    }
   ],
   "source": [
    "users_delicious_contact = 1867\n",
    "max_edges_delicious_contact = (users_delicious_contact**2 - users_delicious_contact)\n",
    "density = edges_delicious_contact / max_edges_delicious_contact\n",
    "print(f\"Densité du graphe : {100 * density} %\")"
   ]
  },
  {
   "cell_type": "markdown",
   "metadata": {},
   "source": [
    "Distribution des degrés du graphe"
   ]
  },
  {
   "cell_type": "code",
   "execution_count": 9,
   "metadata": {},
   "outputs": [
    {
     "name": "stderr",
     "output_type": "stream",
     "text": [
      "C:\\Users\\antoi\\anaconda3\\lib\\site-packages\\seaborn\\distributions.py:2619: FutureWarning: `distplot` is a deprecated function and will be removed in a future version. Please adapt your code to use either `displot` (a figure-level function with similar flexibility) or `histplot` (an axes-level function for histograms).\n",
      "  warnings.warn(msg, FutureWarning)\n"
     ]
    },
    {
     "data": {
      "image/png": "[encoded data removed]",
      "text/plain": [
       "<Figure size 432x288 with 1 Axes>"
      ]
     },
     "metadata": {
      "needs_background": "light"
     },
     "output_type": "display_data"
    }
   ],
   "source": [
    "deg_epinions = pd.Series(dict(g_epinions_trust.degree()))\n",
    "sns.distplot(deg_epinions, bins=20, kde=False, fit=stats.powerlaw , axlabel=\"degree\")\n",
    "plt.show()"
   ]
  },
  {
   "cell_type": "code",
   "execution_count": 10,
   "metadata": {},
   "outputs": [
    {
     "name": "stderr",
     "output_type": "stream",
     "text": [
      "C:\\Users\\antoi\\anaconda3\\lib\\site-packages\\seaborn\\distributions.py:2619: FutureWarning: `distplot` is a deprecated function and will be removed in a future version. Please adapt your code to use either `displot` (a figure-level function with similar flexibility) or `histplot` (an axes-level function for histograms).\n",
      "  warnings.warn(msg, FutureWarning)\n"
     ]
    },
    {
     "data": {
      "image/png": "[encoded data removed]",
      "text/plain": [
       "<Figure size 432x288 with 1 Axes>"
      ]
     },
     "metadata": {
      "needs_background": "light"
     },
     "output_type": "display_data"
    }
   ],
   "source": [
    "deg_delicious = pd.Series(dict(g_delicious_contact.degree()))\n",
    "sns.distplot(deg_delicious, bins=20, kde=False, fit=stats.powerlaw , axlabel=\"degree\")\n",
    "plt.show()"
   ]
  },
  {
   "cell_type": "markdown",
   "metadata": {},
   "source": [
    "Degré de sparsité des matrices d'interactions"
   ]
  },
  {
   "cell_type": "code",
   "execution_count": 11,
   "metadata": {},
   "outputs": [
    {
     "name": "stdout",
     "output_type": "stream",
     "text": [
      "Degré de sparsité : 99.97994685894157 %\n"
     ]
    }
   ],
   "source": [
    "sparsity = (max_edges_epinions_trust - edges_epinions_trust) / max_edges_epinions_trust\n",
    "print(f\"Degré de sparsité : {100 * sparsity} %\")"
   ]
  },
  {
   "cell_type": "code",
   "execution_count": 12,
   "metadata": {},
   "outputs": [
    {
     "name": "stdout",
     "output_type": "stream",
     "text": [
      "Degré de sparsité : 99.78001172275737 %\n"
     ]
    }
   ],
   "source": [
    "sparsity = (max_edges_delicious_contact - edges_delicious_contact) / max_edges_delicious_contact\n",
    "print(f\"Degré de sparsité : {100 * sparsity} %\")"
   ]
  },
  {
   "cell_type": "markdown",
   "metadata": {},
   "source": [
    "Centralités"
   ]
  },
  {
   "cell_type": "code",
   "execution_count": 13,
   "metadata": {},
   "outputs": [],
   "source": [
    "degree_cent_epinions = nx.degree_centrality(g_epinions_trust)"
   ]
  },
  {
   "cell_type": "code",
   "execution_count": null,
   "metadata": {},
   "outputs": [],
   "source": [
    "closeness_cent_epinions = nx.closeness_centrality(g_epinions_trust)"
   ]
  },
  {
   "cell_type": "code",
   "execution_count": null,
   "metadata": {},
   "outputs": [],
   "source": [
    "eigenvector_cent_epinions = nx.eigenvector_centrality(g_epinions_trust, max_iter=1000)"
   ]
  },
  {
   "cell_type": "code",
   "execution_count": null,
   "metadata": {},
   "outputs": [],
   "source": [
    "katz_cent_epinions = nx.katz_centrality(g_epinions_trust, max_iter=1000)"
   ]
  },
  {
   "cell_type": "code",
   "execution_count": null,
   "metadata": {},
   "outputs": [],
   "source": [
    "betweenness_cent_epinions = nx.betweenness_centrality(g_epinions_trust)"
   ]
  },
  {
   "cell_type": "code",
   "execution_count": null,
   "metadata": {},
   "outputs": [],
   "source": [
    "pagerank_epinions = nx.pagerank(g_epinions_trust)"
   ]
  },
  {
   "cell_type": "code",
   "execution_count": null,
   "metadata": {},
   "outputs": [],
   "source": [
    "hits_epinions = nx.hits(g_epinions_trust)[0]"
   ]
  },
  {
   "cell_type": "code",
   "execution_count": null,
   "metadata": {},
   "outputs": [],
   "source": [
    "df = pd.DataFrame()\n",
    "df[\"Node\"] = degree_cent_epinions.keys()\n",
    "df[\"Degree\"] = degree_cent_epinions.values()\n",
    "df[\"Closeness\"] = closeness_cent_epinions.values()\n",
    "df[\"Eigenvector\"] = eigenvector_cent_epinions.values()\n",
    "df[\"Katz\"] = katz_cent_epinions.values()\n",
    "df[\"Betweenness\"] = betweenness_cent_epinions.values()\n",
    "df[\"Pagerank\"] = pagerank_epinions.values()\n",
    "df[\"HITS\"] = hits_epinions.values()\n",
    "df"
   ]
  },
  {
   "cell_type": "code",
   "execution_count": null,
   "metadata": {},
   "outputs": [],
   "source": [
    "sns.pairplot(df[[\"Degree\", \"Closeness\", \"Betweenness\", \"Katz\", \"Pagerank\", \"HITS\"]])"
   ]
  },
  {
   "cell_type": "code",
   "execution_count": null,
   "metadata": {},
   "outputs": [],
   "source": [
    "sns.heatmap(df.corr(), cmap=\"YlGnBu\")"
   ]
  },
  {
   "cell_type": "markdown",
   "metadata": {},
   "source": [
    "Small World Hypotesis"
   ]
  },
  {
   "cell_type": "markdown",
   "metadata": {},
   "source": [
    "Shortest Path Length"
   ]
  },
  {
   "cell_type": "code",
   "execution_count": 42,
   "metadata": {},
   "outputs": [
    {
     "name": "stdout",
     "output_type": "stream",
     "text": [
      "average shortest path length =  4.591929306681257\n"
     ]
    }
   ],
   "source": [
    "node_ser_epinions = pd.Series(g_epinions_trust.nodes)\n",
    "node_ser_sample_epinions = node_ser_epinions.sample(500)\n",
    "\n",
    "shortest_path_sum = 0\n",
    "nb_shortest_path = 0\n",
    "\n",
    "for node1 in node_ser_sample_epinions.index:\n",
    "    for node2 in node_ser_sample_epinions.index:\n",
    "        if node1 != node2:\n",
    "            try:\n",
    "                shortest_path_sum += nx.shortest_path_length(g_epinions_trust, source=node1, target=node2)\n",
    "                nb_shortest_path += 1\n",
    "            except Exception:\n",
    "                pass\n",
    "\n",
    "print(\"average shortest path length = \", shortest_path_sum/nb_shortest_path)"
   ]
  },
  {
   "cell_type": "code",
   "execution_count": 65,
   "metadata": {},
   "outputs": [
    {
     "name": "stdout",
     "output_type": "stream",
     "text": [
      "average shortest path length =  5.4835957438938685\n"
     ]
    }
   ],
   "source": [
    "node_ser_delicious = pd.Series(g_delicious_contact.nodes)\n",
    "node_ser_sample_delicious = node_ser_delicious.sample(500)\n",
    "\n",
    "shortest_path_sum = 0\n",
    "nb_shortest_path = 0\n",
    "\n",
    "for node1 in node_ser_sample_delicious.index:\n",
    "    for node2 in node_ser_sample_delicious.index:\n",
    "        if node1 != node2:\n",
    "            try:\n",
    "                shortest_path_sum += nx.shortest_path_length(g_delicious_contact, source=node1, target=node2)\n",
    "                nb_shortest_path += 1\n",
    "            except Exception:\n",
    "                pass\n",
    "\n",
    "print(\"average shortest path length = \", shortest_path_sum/nb_shortest_path)"
   ]
  },
  {
   "cell_type": "markdown",
   "metadata": {},
   "source": [
    "Strong Community Structure"
   ]
  },
  {
   "cell_type": "code",
   "execution_count": 64,
   "metadata": {},
   "outputs": [
    {
     "name": "stdout",
     "output_type": "stream",
     "text": [
      "average clustering g =  0.14495220279302773\n",
      "average clustering random graph =  0.0003841832178173464\n"
     ]
    }
   ],
   "source": [
    "random_g = nx.gnm_random_graph(n=nodes_epinions_trust, m=edges_epinions_trust)\n",
    "print(\"average clustering g = \", nx.average_clustering(g_epinions_trust))\n",
    "print(\"average clustering random graph = \", nx.average_clustering(random_g))"
   ]
  },
  {
   "cell_type": "code",
   "execution_count": 63,
   "metadata": {},
   "outputs": [
    {
     "name": "stdout",
     "output_type": "stream",
     "text": [
      "average clustering g =  0.4896310284563377\n",
      "average clustering random graph =  0.004445669923133848\n"
     ]
    }
   ],
   "source": [
    "random_g = nx.gnm_random_graph(n=nodes_delicious_contact, m=edges_delicious_contact)\n",
    "print(\"average clustering g = \", nx.average_clustering(g_delicious_contact))\n",
    "print(\"average clustering random graph = \", nx.average_clustering(random_g))"
   ]
  },
  {
   "cell_type": "markdown",
   "metadata": {},
   "source": [
    "Node2Vec"
   ]
  },
  {
   "cell_type": "code",
   "execution_count": 68,
   "metadata": {},
   "outputs": [
    {
     "name": "stderr",
     "output_type": "stream",
     "text": [
      "Computing transition probabilities:  33%|███▎      | 614/1861 [00:00<00:01, 1098.49it/s]c:\\Users\\quent\\AppData\\Local\\Programs\\Python\\Python39\\lib\\site-packages\\node2vec\\node2vec.py:143: RuntimeWarning: invalid value encountered in divide\n",
      "  d_graph[source][self.FIRST_TRAVEL_KEY] = first_travel_weights / first_travel_weights.sum()\n",
      "Computing transition probabilities: 100%|██████████| 1861/1861 [00:01<00:00, 1256.61it/s]\n",
      "Generating walks (CPU: 1): 100%|██████████| 10/10 [00:14<00:00,  1.49s/it]\n"
     ]
    }
   ],
   "source": [
    "from node2vec import Node2Vec as nv\n",
    "\n",
    "WINDOW = 1\n",
    "MIN_COUNT = 1\n",
    "BATCH_WORDS = 4\n",
    "\n",
    "g_emb = nv(g_delicious_contact, dimensions=16)\n",
    "\n",
    "md1 = g_emb.fit(\n",
    "    vector_size = 16,\n",
    "    window = WINDOW,\n",
    "    min_count = MIN_COUNT,\n",
    "    batch_words = BATCH_WORDS\n",
    ")\n",
    "\n",
    "emb_df = (\n",
    "    pd.DataFrame(\n",
    "        [md1.wv.get_vector(str(n)) for n in g_delicious_contact.nodes()],\n",
    "        index = g_delicious_contact.nodes\n",
    "    )\n",
    ")"
   ]
  },
  {
   "cell_type": "code",
   "execution_count": 80,
   "metadata": {},
   "outputs": [
    {
     "data": {
      "text/html": [
       "<div>\n",
       "<style scoped>\n",
       "    .dataframe tbody tr th:only-of-type {\n",
       "        vertical-align: middle;\n",
       "    }\n",
       "\n",
       "    .dataframe tbody tr th {\n",
       "        vertical-align: top;\n",
       "    }\n",
       "\n",
       "    .dataframe thead th {\n",
       "        text-align: right;\n",
       "    }\n",
       "</style>\n",
       "<table border=\"1\" class=\"dataframe\">\n",
       "  <thead>\n",
       "    <tr style=\"text-align: right;\">\n",
       "      <th></th>\n",
       "      <th>0</th>\n",
       "      <th>1</th>\n",
       "      <th>2</th>\n",
       "      <th>3</th>\n",
       "      <th>4</th>\n",
       "      <th>5</th>\n",
       "      <th>6</th>\n",
       "      <th>7</th>\n",
       "      <th>8</th>\n",
       "      <th>9</th>\n",
       "      <th>10</th>\n",
       "      <th>11</th>\n",
       "      <th>12</th>\n",
       "      <th>13</th>\n",
       "      <th>14</th>\n",
       "      <th>15</th>\n",
       "    </tr>\n",
       "  </thead>\n",
       "  <tbody>\n",
       "    <tr>\n",
       "      <th>8</th>\n",
       "      <td>0.694254</td>\n",
       "      <td>-2.357633</td>\n",
       "      <td>-0.249963</td>\n",
       "      <td>0.967742</td>\n",
       "      <td>1.747739</td>\n",
       "      <td>0.558880</td>\n",
       "      <td>0.231964</td>\n",
       "      <td>-1.967212</td>\n",
       "      <td>-1.497855</td>\n",
       "      <td>-0.427042</td>\n",
       "      <td>-0.129212</td>\n",
       "      <td>-0.045766</td>\n",
       "      <td>-1.352636</td>\n",
       "      <td>-1.864817</td>\n",
       "      <td>-0.561596</td>\n",
       "      <td>0.001750</td>\n",
       "    </tr>\n",
       "    <tr>\n",
       "      <th>28371</th>\n",
       "      <td>0.748755</td>\n",
       "      <td>-2.589697</td>\n",
       "      <td>-0.333073</td>\n",
       "      <td>0.764383</td>\n",
       "      <td>1.854024</td>\n",
       "      <td>0.669172</td>\n",
       "      <td>0.501500</td>\n",
       "      <td>-1.789530</td>\n",
       "      <td>-1.472716</td>\n",
       "      <td>-0.385302</td>\n",
       "      <td>-0.534715</td>\n",
       "      <td>0.001700</td>\n",
       "      <td>-1.117275</td>\n",
       "      <td>-1.762654</td>\n",
       "      <td>-0.581700</td>\n",
       "      <td>-0.029277</td>\n",
       "    </tr>\n",
       "    <tr>\n",
       "      <th>40306</th>\n",
       "      <td>0.741755</td>\n",
       "      <td>-2.798521</td>\n",
       "      <td>-0.428761</td>\n",
       "      <td>1.023040</td>\n",
       "      <td>2.201874</td>\n",
       "      <td>0.806020</td>\n",
       "      <td>0.493381</td>\n",
       "      <td>-2.073661</td>\n",
       "      <td>-1.899272</td>\n",
       "      <td>-0.354745</td>\n",
       "      <td>-0.457442</td>\n",
       "      <td>-0.275661</td>\n",
       "      <td>-1.124973</td>\n",
       "      <td>-2.016247</td>\n",
       "      <td>-1.004280</td>\n",
       "      <td>0.162618</td>\n",
       "    </tr>\n",
       "    <tr>\n",
       "      <th>85279</th>\n",
       "      <td>0.810207</td>\n",
       "      <td>-2.763934</td>\n",
       "      <td>-0.455225</td>\n",
       "      <td>0.913726</td>\n",
       "      <td>2.196762</td>\n",
       "      <td>0.784403</td>\n",
       "      <td>0.337681</td>\n",
       "      <td>-2.110599</td>\n",
       "      <td>-1.779132</td>\n",
       "      <td>-0.284123</td>\n",
       "      <td>-0.315482</td>\n",
       "      <td>-0.224469</td>\n",
       "      <td>-1.033821</td>\n",
       "      <td>-1.902319</td>\n",
       "      <td>-0.856601</td>\n",
       "      <td>0.110760</td>\n",
       "    </tr>\n",
       "    <tr>\n",
       "      <th>91764</th>\n",
       "      <td>0.866265</td>\n",
       "      <td>-2.728808</td>\n",
       "      <td>-0.371232</td>\n",
       "      <td>0.971027</td>\n",
       "      <td>2.023114</td>\n",
       "      <td>0.650535</td>\n",
       "      <td>0.495654</td>\n",
       "      <td>-2.292281</td>\n",
       "      <td>-1.645691</td>\n",
       "      <td>-0.431232</td>\n",
       "      <td>-0.427269</td>\n",
       "      <td>0.088436</td>\n",
       "      <td>-1.373858</td>\n",
       "      <td>-2.084807</td>\n",
       "      <td>-0.634981</td>\n",
       "      <td>-0.093717</td>\n",
       "    </tr>\n",
       "    <tr>\n",
       "      <th>...</th>\n",
       "      <td>...</td>\n",
       "      <td>...</td>\n",
       "      <td>...</td>\n",
       "      <td>...</td>\n",
       "      <td>...</td>\n",
       "      <td>...</td>\n",
       "      <td>...</td>\n",
       "      <td>...</td>\n",
       "      <td>...</td>\n",
       "      <td>...</td>\n",
       "      <td>...</td>\n",
       "      <td>...</td>\n",
       "      <td>...</td>\n",
       "      <td>...</td>\n",
       "      <td>...</td>\n",
       "      <td>...</td>\n",
       "    </tr>\n",
       "    <tr>\n",
       "      <th>63236</th>\n",
       "      <td>-1.611914</td>\n",
       "      <td>-1.080166</td>\n",
       "      <td>0.225568</td>\n",
       "      <td>2.719447</td>\n",
       "      <td>1.542015</td>\n",
       "      <td>1.679422</td>\n",
       "      <td>1.086158</td>\n",
       "      <td>-0.060771</td>\n",
       "      <td>0.688349</td>\n",
       "      <td>-1.059171</td>\n",
       "      <td>-0.502745</td>\n",
       "      <td>-0.747772</td>\n",
       "      <td>0.312428</td>\n",
       "      <td>1.609473</td>\n",
       "      <td>0.151743</td>\n",
       "      <td>-0.785277</td>\n",
       "    </tr>\n",
       "    <tr>\n",
       "      <th>78755</th>\n",
       "      <td>0.111980</td>\n",
       "      <td>-0.726748</td>\n",
       "      <td>0.292656</td>\n",
       "      <td>0.685373</td>\n",
       "      <td>1.977913</td>\n",
       "      <td>0.628250</td>\n",
       "      <td>1.068514</td>\n",
       "      <td>-0.129749</td>\n",
       "      <td>0.530534</td>\n",
       "      <td>-0.630236</td>\n",
       "      <td>-0.235279</td>\n",
       "      <td>-0.821407</td>\n",
       "      <td>0.262995</td>\n",
       "      <td>0.986843</td>\n",
       "      <td>0.146409</td>\n",
       "      <td>1.219979</td>\n",
       "    </tr>\n",
       "    <tr>\n",
       "      <th>69755</th>\n",
       "      <td>-0.414519</td>\n",
       "      <td>-1.614316</td>\n",
       "      <td>-0.479643</td>\n",
       "      <td>2.107293</td>\n",
       "      <td>0.513729</td>\n",
       "      <td>0.268561</td>\n",
       "      <td>0.230327</td>\n",
       "      <td>-1.694284</td>\n",
       "      <td>-0.604117</td>\n",
       "      <td>0.828961</td>\n",
       "      <td>-0.256373</td>\n",
       "      <td>0.663777</td>\n",
       "      <td>-0.090883</td>\n",
       "      <td>-0.498299</td>\n",
       "      <td>-1.162200</td>\n",
       "      <td>0.135979</td>\n",
       "    </tr>\n",
       "    <tr>\n",
       "      <th>77563</th>\n",
       "      <td>0.898487</td>\n",
       "      <td>-0.211526</td>\n",
       "      <td>0.379002</td>\n",
       "      <td>0.645956</td>\n",
       "      <td>1.123358</td>\n",
       "      <td>0.022703</td>\n",
       "      <td>1.548055</td>\n",
       "      <td>-0.446436</td>\n",
       "      <td>-0.175732</td>\n",
       "      <td>0.048832</td>\n",
       "      <td>-0.568028</td>\n",
       "      <td>0.125386</td>\n",
       "      <td>-1.036174</td>\n",
       "      <td>-0.325848</td>\n",
       "      <td>0.871970</td>\n",
       "      <td>0.601962</td>\n",
       "    </tr>\n",
       "    <tr>\n",
       "      <th>78535</th>\n",
       "      <td>-0.425977</td>\n",
       "      <td>-0.159139</td>\n",
       "      <td>-0.780636</td>\n",
       "      <td>1.609572</td>\n",
       "      <td>0.306085</td>\n",
       "      <td>0.922203</td>\n",
       "      <td>0.579767</td>\n",
       "      <td>-1.042333</td>\n",
       "      <td>-0.527577</td>\n",
       "      <td>-0.589159</td>\n",
       "      <td>0.426143</td>\n",
       "      <td>-0.746427</td>\n",
       "      <td>-0.613411</td>\n",
       "      <td>-1.128637</td>\n",
       "      <td>0.515960</td>\n",
       "      <td>0.213439</td>\n",
       "    </tr>\n",
       "  </tbody>\n",
       "</table>\n",
       "<p>1861 rows × 16 columns</p>\n",
       "</div>"
      ],
      "text/plain": [
       "             0         1         2         3         4         5         6   \\\n",
       "8      0.694254 -2.357633 -0.249963  0.967742  1.747739  0.558880  0.231964   \n",
       "28371  0.748755 -2.589697 -0.333073  0.764383  1.854024  0.669172  0.501500   \n",
       "40306  0.741755 -2.798521 -0.428761  1.023040  2.201874  0.806020  0.493381   \n",
       "85279  0.810207 -2.763934 -0.455225  0.913726  2.196762  0.784403  0.337681   \n",
       "91764  0.866265 -2.728808 -0.371232  0.971027  2.023114  0.650535  0.495654   \n",
       "...         ...       ...       ...       ...       ...       ...       ...   \n",
       "63236 -1.611914 -1.080166  0.225568  2.719447  1.542015  1.679422  1.086158   \n",
       "78755  0.111980 -0.726748  0.292656  0.685373  1.977913  0.628250  1.068514   \n",
       "69755 -0.414519 -1.614316 -0.479643  2.107293  0.513729  0.268561  0.230327   \n",
       "77563  0.898487 -0.211526  0.379002  0.645956  1.123358  0.022703  1.548055   \n",
       "78535 -0.425977 -0.159139 -0.780636  1.609572  0.306085  0.922203  0.579767   \n",
       "\n",
       "             7         8         9         10        11        12        13  \\\n",
       "8     -1.967212 -1.497855 -0.427042 -0.129212 -0.045766 -1.352636 -1.864817   \n",
       "28371 -1.789530 -1.472716 -0.385302 -0.534715  0.001700 -1.117275 -1.762654   \n",
       "40306 -2.073661 -1.899272 -0.354745 -0.457442 -0.275661 -1.124973 -2.016247   \n",
       "85279 -2.110599 -1.779132 -0.284123 -0.315482 -0.224469 -1.033821 -1.902319   \n",
       "91764 -2.292281 -1.645691 -0.431232 -0.427269  0.088436 -1.373858 -2.084807   \n",
       "...         ...       ...       ...       ...       ...       ...       ...   \n",
       "63236 -0.060771  0.688349 -1.059171 -0.502745 -0.747772  0.312428  1.609473   \n",
       "78755 -0.129749  0.530534 -0.630236 -0.235279 -0.821407  0.262995  0.986843   \n",
       "69755 -1.694284 -0.604117  0.828961 -0.256373  0.663777 -0.090883 -0.498299   \n",
       "77563 -0.446436 -0.175732  0.048832 -0.568028  0.125386 -1.036174 -0.325848   \n",
       "78535 -1.042333 -0.527577 -0.589159  0.426143 -0.746427 -0.613411 -1.128637   \n",
       "\n",
       "             14        15  \n",
       "8     -0.561596  0.001750  \n",
       "28371 -0.581700 -0.029277  \n",
       "40306 -1.004280  0.162618  \n",
       "85279 -0.856601  0.110760  \n",
       "91764 -0.634981 -0.093717  \n",
       "...         ...       ...  \n",
       "63236  0.151743 -0.785277  \n",
       "78755  0.146409  1.219979  \n",
       "69755 -1.162200  0.135979  \n",
       "77563  0.871970  0.601962  \n",
       "78535  0.515960  0.213439  \n",
       "\n",
       "[1861 rows x 16 columns]"
      ]
     },
     "execution_count": 80,
     "metadata": {},
     "output_type": "execute_result"
    }
   ],
   "source": [
    "emb_df"
   ]
  },
  {
   "cell_type": "code",
   "execution_count": 89,
   "metadata": {},
   "outputs": [
    {
     "data": {
      "text/plain": [
       "0.9895863555069524"
      ]
     },
     "execution_count": 89,
     "metadata": {},
     "output_type": "execute_result"
    }
   ],
   "source": [
    "def norm(ui):\n",
    "    n = 0\n",
    "    for x in ui:\n",
    "        n += x**2\n",
    "    return np.sqrt(n)\n",
    "\n",
    "def sim_cos(i, j):\n",
    "    ui = emb_df.loc[i]\n",
    "    uj = emb_df.loc[j]\n",
    "    sim = 0\n",
    "    for k in range(len(ui)):\n",
    "        sim += ui[k] * uj[k]\n",
    "    return sim / (norm(ui)*norm(uj))\n",
    "\n",
    "sim_cos(8, 28371)"
   ]
  },
  {
   "cell_type": "code",
   "execution_count": 95,
   "metadata": {},
   "outputs": [
    {
     "data": {
      "text/plain": [
       "1.2218916001879356"
      ]
     },
     "execution_count": 95,
     "metadata": {},
     "output_type": "execute_result"
    }
   ],
   "source": [
    "def sim_adar(i, j):\n",
    "    return list(nx.adamic_adar_index(g_delicious_contact, [(i, j)]))[0][-1]\n",
    "\n",
    "sim_adar(8, 28371)"
   ]
  }
 ],
 "metadata": {
  "kernelspec": {
   "display_name": "Python 3 (ipykernel)",
   "language": "python",
   "name": "python3"
  },
  "language_info": {
   "codemirror_mode": {
    "name": "ipython",
    "version": 3
   },
   "file_extension": ".py",
   "mimetype": "text/x-python",
   "name": "python",
   "nbconvert_exporter": "python",
   "pygments_lexer": "ipython3",
   "version": "3.9.7"
  },
  "vscode": {
   "interpreter": {
    "hash": "a771b7766c439f167a85454aa45440eda3d18649461135719fffb2235b2f5b6b"
   }
  }
 },
 "nbformat": 4,
 "nbformat_minor": 2
}
